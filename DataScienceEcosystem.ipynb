{
 "cells": [
  {
   "cell_type": "markdown",
   "id": "1ef04238-0b5e-45b1-8b0b-c0a643a11a29",
   "metadata": {},
   "source": [
    "# Data Science Tools and Ecosystem"
   ]
  },
  {
   "cell_type": "markdown",
   "id": "d5aed9fd-16de-4bb2-9fa3-2e39739c2161",
   "metadata": {},
   "source": [
    "## In this notebook, Data Science Tools and Ecosystem are summarized."
   ]
  },
  {
   "cell_type": "markdown",
   "id": "187198bf-9e54-4dc2-bec0-5d98373e8906",
   "metadata": {},
   "source": [
    "**Objectives**\n",
    "- List the most popular languages of Data Science\n",
    "- List the most used libraries in Data Science\n",
    "- List the most popular Data Science Tools\n",
    "- Show examples of arithmetic expressions evaluated in Python\n",
    "## Author\n",
    "Nicolás Alexis Ávila Fernández"
   ]
  },
  {
   "cell_type": "markdown",
   "id": "217e7535-49c8-47f5-a213-f894fa1d9b43",
   "metadata": {},
   "source": [
    "### Some of the popular languages that Data Scientists use are:\n",
    "- Python\n",
    "- R\n",
    "- SQL\n",
    "- Java\n",
    "- C++\n",
    "- Julia\n",
    "- Scala"
   ]
  },
  {
   "cell_type": "markdown",
   "id": "d782e5cf-8dc9-4532-8b6b-1346f59d999d",
   "metadata": {},
   "source": [
    "### Some of the commonly used libraries used by Data Scientists include:\n",
    "- Pandas\n",
    "- Matplotlib\n",
    "- NumPy\n",
    "- Plotly\n",
    "- ggplot\n",
    "- Scikit-learn"
   ]
  },
  {
   "attachments": {},
   "cell_type": "markdown",
   "id": "7cc0614e-290a-45a9-b71c-a5b633cffd20",
   "metadata": {},
   "source": [
    "| Data Science Tools| \n",
    "|:--------:|\n",
    "| Apache Spark |  \n",
    "| KNIME |  \n",
    "| Apache Hadoop |  \n"
   ]
  },
  {
   "cell_type": "markdown",
   "id": "fedc495e-57da-4d3b-8a38-2bfdd704d52f",
   "metadata": {},
   "source": [
    "### Below are a few examples of evaluating arithmetic expressions in Python"
   ]
  },
  {
   "cell_type": "markdown",
   "id": "bbdc6da6-2266-42c7-9945-2e92df49cb04",
   "metadata": {},
   "source": [
    "This a simple arithmetic expression to mutiply then add integers:"
   ]
  },
  {
   "cell_type": "code",
   "execution_count": 3,
   "id": "8d48a258-eb67-482e-aeb5-c1ddc112fb04",
   "metadata": {},
   "outputs": [
    {
     "data": {
      "text/plain": [
       "17"
      ]
     },
     "execution_count": 3,
     "metadata": {},
     "output_type": "execute_result"
    }
   ],
   "source": [
    "(3*4)+5"
   ]
  },
  {
   "cell_type": "markdown",
   "id": "5a6a2cd4-9c74-498f-b1cb-c7e7b09a3f49",
   "metadata": {},
   "source": [
    "This will convert 200 minutes to hours by diving by 60"
   ]
  },
  {
   "cell_type": "code",
   "execution_count": 4,
   "id": "7ae4d5fd-c961-4b25-ab5c-43c0c94e6e48",
   "metadata": {},
   "outputs": [
    {
     "data": {
      "text/plain": [
       "3.3333333333333335"
      ]
     },
     "execution_count": 4,
     "metadata": {},
     "output_type": "execute_result"
    }
   ],
   "source": [
    "200/60"
   ]
  },
  {
   "cell_type": "code",
   "execution_count": null,
   "id": "17f797e7-9146-4435-a2cd-3795bb284c81",
   "metadata": {},
   "outputs": [],
   "source": []
  }
 ],
 "metadata": {
  "kernelspec": {
   "display_name": "Python 3 (ipykernel)",
   "language": "python",
   "name": "python3"
  },
  "language_info": {
   "codemirror_mode": {
    "name": "ipython",
    "version": 3
   },
   "file_extension": ".py",
   "mimetype": "text/x-python",
   "name": "python",
   "nbconvert_exporter": "python",
   "pygments_lexer": "ipython3",
   "version": "3.11.9"
  }
 },
 "nbformat": 4,
 "nbformat_minor": 5
}
